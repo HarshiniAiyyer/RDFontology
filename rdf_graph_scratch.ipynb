{
  "nbformat": 4,
  "nbformat_minor": 0,
  "metadata": {
    "colab": {
      "name": "rdf graph scratch.ipynb",
      "provenance": [],
      "collapsed_sections": []
    },
    "kernelspec": {
      "name": "python3",
      "display_name": "Python 3"
    },
    "language_info": {
      "name": "python"
    }
  },
  "cells": [
    {
      "cell_type": "code",
      "metadata": {
        "id": "HwKNYErKryLl",
        "colab": {
          "base_uri": "https://localhost:8080/"
        },
        "outputId": "68868228-b321-4a90-8cbe-da231ee7b84a"
      },
      "source": [
        "pip install -U rdflib"
      ],
      "execution_count": null,
      "outputs": [
        {
          "output_type": "stream",
          "name": "stdout",
          "text": [
            "Requirement already satisfied: rdflib in /usr/local/lib/python3.7/dist-packages (6.0.2)\n",
            "Requirement already satisfied: setuptools in /usr/local/lib/python3.7/dist-packages (from rdflib) (57.4.0)\n",
            "Requirement already satisfied: isodate in /usr/local/lib/python3.7/dist-packages (from rdflib) (0.6.0)\n",
            "Requirement already satisfied: pyparsing in /usr/local/lib/python3.7/dist-packages (from rdflib) (2.4.7)\n",
            "Requirement already satisfied: six in /usr/local/lib/python3.7/dist-packages (from isodate->rdflib) (1.15.0)\n"
          ]
        }
      ]
    },
    {
      "cell_type": "code",
      "metadata": {
        "id": "8Sd4LCYqr2AT"
      },
      "source": [
        "from rdflib import BNode, Literal, Namespace, RDF, URIRef\n",
        "from rdflib.namespace import FOAF, DCTERMS,RDF,RDFS,OWL\n",
        "\n",
        "crypto = URIRef('http://dbpedia.org/resource/Cryptocurrency')\n",
        "ether = URIRef('http://dbpedia.org/resource/Ethereum')\n",
        "curr = URIRef('https://dbpedia.org/resource/Currency')\n",
        "vitalik = URIRef('https://www.wikidata.org/wiki/Q16197959')\n",
        "cl = URIRef('https://dbpedia.org/page/Chainlink_(blockchain)')\n",
        "gav = URIRef('https://www.wikidata.org/wiki/Q43379767')\n",
        "\n",
        "EX = Namespace('http://example.org')\n",
        "me = EX['Me']\n",
        "\n",
        "title = Literal('Ethereum', lang = 'en')"
      ],
      "execution_count": null,
      "outputs": []
    },
    {
      "cell_type": "code",
      "metadata": {
        "colab": {
          "base_uri": "https://localhost:8080/",
          "height": 34
        },
        "id": "DpDOruDYTXx4",
        "outputId": "47e75124-d2af-451b-d092-ea0c63f6ca36"
      },
      "source": [
        "title"
      ],
      "execution_count": null,
      "outputs": [
        {
          "output_type": "execute_result",
          "data": {
            "application/vnd.google.colaboratory.intrinsic+json": {
              "type": "string"
            },
            "text/plain": [
              "rdflib.term.Literal('Ethereum', lang='en')"
            ]
          },
          "metadata": {},
          "execution_count": 3
        }
      ]
    },
    {
      "cell_type": "code",
      "metadata": {
        "colab": {
          "base_uri": "https://localhost:8080/"
        },
        "id": "DzuF5pynygAV",
        "outputId": "0b37e360-b82d-4550-87e0-6cded9dcc28c"
      },
      "source": [
        "print('Title of the graph is',title)\n",
        "print('Language - ',title.language)\n",
        "print('Title Content -',title.value)"
      ],
      "execution_count": null,
      "outputs": [
        {
          "output_type": "stream",
          "name": "stdout",
          "text": [
            "Title of the graph is Ethereum\n",
            "Language -  en\n",
            "Title Content - Ethereum\n"
          ]
        }
      ]
    },
    {
      "cell_type": "code",
      "metadata": {
        "id": "-LWzJHXXr19p",
        "colab": {
          "base_uri": "https://localhost:8080/"
        },
        "outputId": "0835678b-0f03-404e-cf58-ca576481c7f7"
      },
      "source": [
        "from rdflib import Graph\n",
        "g = Graph()\n",
        "\n",
        "g.add((me, FOAF['topic_interest'], crypto))\n",
        "g.add((crypto, RDFS.member, curr))\n",
        "g.add((ether, DCTERMS.isPartOf, crypto))\n",
        "g.add((ether, DCTERMS['title'], title))\n",
        "g.add((ether, DCTERMS['creator'], vitalik))\n",
        "g.add((cl, FOAF['based_near'], ether))\n",
        "g.add((cl,RDFS.member,bc))\n",
        "g.add((vitalik, FOAF.knows, gav))"
      ],
      "execution_count": null,
      "outputs": [
        {
          "output_type": "execute_result",
          "data": {
            "text/plain": [
              "<Graph identifier=N90f1de0d279f416dac2d598edca296c3 (<class 'rdflib.graph.Graph'>)>"
            ]
          },
          "metadata": {},
          "execution_count": 5
        }
      ]
    },
    {
      "cell_type": "code",
      "metadata": {
        "id": "pQSQBD6wr17P",
        "colab": {
          "base_uri": "https://localhost:8080/"
        },
        "outputId": "0d4039a2-82c3-45cd-a516-bb20ecc0958d"
      },
      "source": [
        "print(g.serialize(format='ttl'))"
      ],
      "execution_count": null,
      "outputs": [
        {
          "output_type": "stream",
          "name": "stdout",
          "text": [
            "@prefix ns1: <http://purl.org/dc/terms/> .\n",
            "@prefix ns2: <http://xmlns.com/foaf/0.1/> .\n",
            "@prefix rdfs: <http://www.w3.org/2000/01/rdf-schema#> .\n",
            "\n",
            "<http://example.orgMe> ns2:topic_interest <http://dbpedia.org/resource/Cryptocurrency> .\n",
            "\n",
            "<https://dbpedia.org/page/Chainlink_(blockchain)> rdfs:member <https://www.wikidata.org/wiki/Q20514253> ;\n",
            "    ns2:based_near <http://dbpedia.org/resource/Ethereum> .\n",
            "\n",
            "<http://dbpedia.org/resource/Ethereum> ns1:creator <https://www.wikidata.org/wiki/Q16197959> ;\n",
            "    ns1:isPartOf <http://dbpedia.org/resource/Cryptocurrency> ;\n",
            "    ns1:title \"Ethereum\"@en .\n",
            "\n",
            "<https://www.wikidata.org/wiki/Q16197959> ns2:knows <https://www.wikidata.org/wiki/Q43379767> .\n",
            "\n",
            "<http://dbpedia.org/resource/Cryptocurrency> rdfs:member <https://dbpedia.org/resource/Currency> .\n",
            "\n",
            "\n"
          ]
        }
      ]
    },
    {
      "cell_type": "code",
      "metadata": {
        "id": "cX6PYCTFr14n"
      },
      "source": [
        "g.bind('ex',EX)\n",
        "g.bind('rdfs',RDFS)\n",
        "g.bind('rdf',RDF)\n",
        "g.bind('foaf',FOAF)\n",
        "g.bind('dcterms',DCTERMS)\n",
        "g.bind('owl',OWL)"
      ],
      "execution_count": null,
      "outputs": []
    },
    {
      "cell_type": "code",
      "metadata": {
        "id": "t97xf3-er12Q",
        "colab": {
          "base_uri": "https://localhost:8080/"
        },
        "outputId": "ce8010c8-1a5c-46aa-8567-4c4d00d9483a"
      },
      "source": [
        "for pf, name in g.namespaces():\n",
        "  print(pf,name)"
      ],
      "execution_count": null,
      "outputs": [
        {
          "output_type": "stream",
          "name": "stdout",
          "text": [
            "xml http://www.w3.org/XML/1998/namespace\n",
            "rdf http://www.w3.org/1999/02/22-rdf-syntax-ns#\n",
            "rdfs http://www.w3.org/2000/01/rdf-schema#\n",
            "xsd http://www.w3.org/2001/XMLSchema#\n",
            "ns1 http://purl.org/dc/terms/\n",
            "ns2 http://xmlns.com/foaf/0.1/\n",
            "ex http://example.org\n",
            "foaf http://xmlns.com/foaf/0.1/\n",
            "dcterms http://purl.org/dc/terms/\n",
            "owl http://www.w3.org/2002/07/owl#\n"
          ]
        }
      ]
    },
    {
      "cell_type": "code",
      "metadata": {
        "id": "EHohwxrvr1zs",
        "colab": {
          "base_uri": "https://localhost:8080/"
        },
        "outputId": "2f78c19e-3dcf-4c59-e4b5-25b5a24e4d2b"
      },
      "source": [
        "#replace literal value\n",
        "g.set((ether, DCTERMS['title'], Literal('Ethereum', lang='en')))"
      ],
      "execution_count": null,
      "outputs": [
        {
          "output_type": "execute_result",
          "data": {
            "text/plain": [
              "<Graph identifier=N90f1de0d279f416dac2d598edca296c3 (<class 'rdflib.graph.Graph'>)>"
            ]
          },
          "metadata": {},
          "execution_count": 9
        }
      ]
    },
    {
      "cell_type": "code",
      "metadata": {
        "id": "wJPZEzTfr1xW",
        "colab": {
          "base_uri": "https://localhost:8080/"
        },
        "outputId": "ff55f588-840a-4369-e88f-67bc885524d4"
      },
      "source": [
        "print(g.serialize(format='ttl'))"
      ],
      "execution_count": null,
      "outputs": [
        {
          "output_type": "stream",
          "name": "stdout",
          "text": [
            "@prefix ex: <http://example.org> .\n",
            "@prefix ns1: <http://purl.org/dc/terms/> .\n",
            "@prefix ns2: <http://xmlns.com/foaf/0.1/> .\n",
            "@prefix rdfs: <http://www.w3.org/2000/01/rdf-schema#> .\n",
            "\n",
            "ex:Me ns2:topic_interest <http://dbpedia.org/resource/Cryptocurrency> .\n",
            "\n",
            "<https://dbpedia.org/page/Chainlink_(blockchain)> rdfs:member <https://www.wikidata.org/wiki/Q20514253> ;\n",
            "    ns2:based_near <http://dbpedia.org/resource/Ethereum> .\n",
            "\n",
            "<http://dbpedia.org/resource/Ethereum> ns1:creator <https://www.wikidata.org/wiki/Q16197959> ;\n",
            "    ns1:isPartOf <http://dbpedia.org/resource/Cryptocurrency> ;\n",
            "    ns1:title \"Ethereum\"@en .\n",
            "\n",
            "<https://www.wikidata.org/wiki/Q16197959> ns2:knows <https://www.wikidata.org/wiki/Q43379767> .\n",
            "\n",
            "<http://dbpedia.org/resource/Cryptocurrency> rdfs:member <https://dbpedia.org/resource/Currency> .\n",
            "\n",
            "\n"
          ]
        }
      ]
    },
    {
      "cell_type": "code",
      "metadata": {
        "id": "eFBSt_45r1sK"
      },
      "source": [
        "#saving the rdf file to a different format\n",
        "v = g.serialize(format=\"xml\")"
      ],
      "execution_count": null,
      "outputs": []
    },
    {
      "cell_type": "code",
      "metadata": {
        "colab": {
          "base_uri": "https://localhost:8080/"
        },
        "id": "Sj9tvnh9U5CM",
        "outputId": "c2bca93c-c2e5-4af0-931c-0f1d78297071"
      },
      "source": [
        "#saving the file to a destination\n",
        "g.serialize(destination = (r'C:\\Users\\USER\\OneDrive\\Desktop\\Ist Sem\\AI\\output.txt'), format='turtle')"
      ],
      "execution_count": null,
      "outputs": [
        {
          "output_type": "execute_result",
          "data": {
            "text/plain": [
              "<Graph identifier=N90f1de0d279f416dac2d598edca296c3 (<class 'rdflib.graph.Graph'>)>"
            ]
          },
          "metadata": {},
          "execution_count": 12
        }
      ]
    },
    {
      "cell_type": "code",
      "metadata": {
        "id": "WqJY6PksVlb5"
      },
      "source": [
        ""
      ],
      "execution_count": null,
      "outputs": []
    }
  ]
}